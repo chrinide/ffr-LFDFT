{
 "cells": [
  {
   "cell_type": "markdown",
   "metadata": {},
   "source": [
    "## Accuracy of Lagrange-sinc functions as a basis set for electronic structure calculations of atoms and molecules\n",
    "\n",
    "Sunghwan Choi, Kwangwoo Hong, Jaewook Kim, and Woo Youn Kim\n",
    "\n",
    "*J. Chem. Phys.* **142** 094116 (2015)"
   ]
  },
  {
   "cell_type": "markdown",
   "metadata": {},
   "source": [
    "DFT is certainly the most popular method for electronic structure calculations of atoms, molecules, and solids because it provides a cost-effective means of obtaining reliable results for various applications."
   ]
  },
  {
   "cell_type": "markdown",
   "metadata": {},
   "source": [
    "Such atom-centered basis functions may be the most efficient method in terms of the number of basis functions. However, such an approach entails the pre-parameterization of basis functions and often need careful selection of an appropriate basis set, depending on systems and properties under investigation.\n",
    "\n",
    "The predetermined shape of basis functions may restrict variational space with undesirable constraint due to its incompleteness."
   ]
  },
  {
   "cell_type": "markdown",
   "metadata": {},
   "source": [
    "Advantages of grid-based methods (such as finite difference method (FDM) and finite element method (FEM)):\n",
    "\n",
    "- computational accuracy can be systematically improved with a single parameter control, i.e. number of grid points regardless of systems\n",
    "\n",
    "- Hamiltonian matrices are sparse such that efficient iterative algorithms can be applied\n",
    "\n",
    "- both free and periodic boundary conditions are imposed unlike the plane waves which inherently have a periodic nature\n",
    "\n",
    "- computation can be massively parallelized (easy parallelization)"
   ]
  },
  {
   "cell_type": "markdown",
   "metadata": {},
   "source": [
    "Grid-based methods can be categorized into three types:\n",
    "- FDM: finite difference method\n",
    "- FEM: finite element method\n",
    "- localized basis representation: use a basis function which is localized on each grid point like FEM, but it allows to obtain kinetic energy matrix element via direct integration of second order differential operator."
   ]
  },
  {
   "cell_type": "markdown",
   "metadata": {},
   "source": [
    "Examples of grid-based localized basis set:\n",
    "- wavelet\n",
    "- spline function\n",
    "- Lagrange function"
   ]
  },
  {
   "cell_type": "code",
   "execution_count": null,
   "metadata": {
    "collapsed": true
   },
   "outputs": [],
   "source": []
  },
  {
   "cell_type": "code",
   "execution_count": null,
   "metadata": {
    "collapsed": true
   },
   "outputs": [],
   "source": []
  },
  {
   "cell_type": "code",
   "execution_count": null,
   "metadata": {
    "collapsed": true
   },
   "outputs": [],
   "source": []
  },
  {
   "cell_type": "code",
   "execution_count": null,
   "metadata": {
    "collapsed": true
   },
   "outputs": [],
   "source": []
  }
 ],
 "metadata": {
  "kernelspec": {
   "display_name": "Python 3",
   "language": "python",
   "name": "python3"
  },
  "language_info": {
   "codemirror_mode": {
    "name": "ipython",
    "version": 3
   },
   "file_extension": ".py",
   "mimetype": "text/x-python",
   "name": "python",
   "nbconvert_exporter": "python",
   "pygments_lexer": "ipython3",
   "version": "3.6.1"
  }
 },
 "nbformat": 4,
 "nbformat_minor": 2
}
