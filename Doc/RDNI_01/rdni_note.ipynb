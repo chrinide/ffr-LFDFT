{
 "cells": [
  {
   "cell_type": "markdown",
   "metadata": {},
   "source": [
    "# Perhitungan struktur elektronik berdasarkan teori fungsional kerapatan dengan fungsi Lagrange: Implementasi awal"
   ]
  },
  {
   "cell_type": "markdown",
   "metadata": {},
   "source": [
    "Fadjar Fathurrahman dan Hermawan Kresno Dipojono\n",
    "\n",
    "Program Studi Teknik Fisika dan Pusat Penelitian Nanosains dan Nanoteknologi, Institut Teknologi Bandung"
   ]
  },
  {
   "cell_type": "markdown",
   "metadata": {},
   "source": [
    "## Pendahuluan"
   ]
  },
  {
   "cell_type": "markdown",
   "metadata": {},
   "source": [
    "Peran komputasi dalam nanosains dan nanoteknologi."
   ]
  },
  {
   "cell_type": "markdown",
   "metadata": {},
   "source": [
    "Teori fungsional kerapatan (*density functional theory*).\n",
    "\n",
    "Peran teori fungsional kerapatan"
   ]
  },
  {
   "cell_type": "markdown",
   "metadata": {},
   "source": [
    "## Teori"
   ]
  },
  {
   "cell_type": "markdown",
   "metadata": {},
   "source": [
    "Persamaan sentral pada teori fungsional kerapatan adalah persamaan Kohn-Sham yang dapat ditulis sebagai berikut.\n",
    "$$\n",
    "\\begin{equation}\n",
    "\\left[\n",
    "-\\frac{1}{2}\\nabla^2\n",
    "+ V_{\\mathrm{e-n}}(\\mathbf{r})\n",
    "+ V_{\\mathrm{Ha}}(\\mathbf{r})\n",
    "+ V_{\\mathrm{xc}}(\\mathbf{r})\n",
    "\\right]\\psi_{i}(\\mathrm{r}) =\n",
    "\\epsilon_{i} \\psi_{i}(\\mathrm{r})\n",
    "\\end{equation}\n",
    "$$\n",
    "Pada persamaan di atas, ...\n"
   ]
  },
  {
   "cell_type": "markdown",
   "metadata": {},
   "source": [
    "## Implementasi"
   ]
  },
  {
   "cell_type": "markdown",
   "metadata": {},
   "source": [
    "Ekspansi persamaan Kohn-Sham dengan fungsi basis Lagrange:\n",
    "$$\n",
    "\\begin{equation}\n",
    "\\psi_{i}(\\mathbf{r}) = \\sum_{\\alpha\\beta\\gamma}\n",
    "C^{i}_{\\alpha\\beta\\gamma} \\phi_{\\alpha\\beta\\gamma}(\\mathbf{r})\n",
    "\\end{equation}\n",
    "$$"
   ]
  },
  {
   "cell_type": "markdown",
   "metadata": {},
   "source": []
  },
  {
   "cell_type": "markdown",
   "metadata": {},
   "source": []
  },
  {
   "cell_type": "markdown",
   "metadata": {},
   "source": []
  }
 ],
 "metadata": {
  "kernelspec": {
   "display_name": "Julia 0.6.0",
   "language": "julia",
   "name": "julia-0.6"
  },
  "language_info": {
   "file_extension": ".jl",
   "mimetype": "application/julia",
   "name": "julia",
   "version": "0.6.0"
  }
 },
 "nbformat": 4,
 "nbformat_minor": 2
}
